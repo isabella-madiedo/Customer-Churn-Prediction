{
 "cells": [
  {
   "cell_type": "markdown",
   "metadata": {},
   "source": [
    "# Customer Churn Prediction 💁‍♀️\n",
    "\n",
    "### Data Queries"
   ]
  },
  {
   "cell_type": "code",
   "execution_count": 1,
   "metadata": {},
   "outputs": [],
   "source": [
    "# Load required libraries\n",
    "import pandas as pd\n",
    "from sqlalchemy import create_engine\n",
    "import config"
   ]
  },
  {
   "cell_type": "markdown",
   "metadata": {},
   "source": [
    "## Database Configuration"
   ]
  },
  {
   "cell_type": "markdown",
   "metadata": {},
   "source": [
    "### MySQL Connection"
   ]
  },
  {
   "cell_type": "code",
   "execution_count": 2,
   "metadata": {},
   "outputs": [],
   "source": [
    "# Create a connection to MySQL database\n",
    "engine = create_engine('mysql+mysqlconnector://' + config.username + ':' + config.password + '@localhost:3306/' + config.database)"
   ]
  },
  {
   "cell_type": "markdown",
   "metadata": {},
   "source": [
    "### Data Loading"
   ]
  },
  {
   "cell_type": "code",
   "execution_count": null,
   "metadata": {},
   "outputs": [
    {
     "data": {
      "text/plain": [
       "7043"
      ]
     },
     "execution_count": 29,
     "metadata": {},
     "output_type": "execute_result"
    }
   ],
   "source": [
    "# Load data into MySQL database\n",
    "csv_files = {\n",
    "    \"customers\": \"../Data/customers.csv\",\n",
    "    \"accountcharges\": \"../Data/AccountCharges.csv\",\n",
    "    \"accountfeatures\": \"../Data/AccountFeatures.csv\",\n",
    "    \"internetservices\": \"../Data/InternetServices.csv\",\n",
    "    \"phoneservices\": \"../Data/PhoneServices.csv\",\n",
    "}\n",
    "\n",
    "for table, file in csv_files.items():\n",
    "    df = pd.read_csv(file)\n",
    "    df.to_sql(table, con=engine, if_exists=\"append\", index=False)"
   ]
  },
  {
   "cell_type": "markdown",
   "metadata": {},
   "source": [
    "## Data Querying"
   ]
  },
  {
   "cell_type": "markdown",
   "metadata": {},
   "source": [
    "### Customers\n",
    "The EDA suggested churn is most likely for customers who are senior citizens, do not have a partner and do not have dependants. Below the study of this demosgraphic's churn rate."
   ]
  },
  {
   "cell_type": "code",
   "execution_count": 3,
   "metadata": {},
   "outputs": [
    {
     "name": "stdout",
     "output_type": "stream",
     "text": [
      "   Churn Percentage  Number of Customers\n",
      "0           49.1979                  276\n"
     ]
    }
   ],
   "source": [
    "query = '''\n",
    "SELECT \n",
    "    (COUNT(customers.CustomerID) * 100 / \n",
    "        (SELECT COUNT(CustomerID) \n",
    "         FROM customers \n",
    "         WHERE SeniorCitizen = 1 \n",
    "           AND Partner = 'No' \n",
    "           AND Dependents = 'No')\n",
    "    ) AS 'Churn Percentage',\n",
    "COUNT(customers.CustomerID) AS 'Number of Customers'\n",
    "FROM customers\n",
    "JOIN accountfeatures ON customers.CustomerID = accountfeatures.CustomerID\n",
    "WHERE customers.SeniorCitizen = 1\n",
    "    AND customers.Partner = 'No'\n",
    "    AND customers.Dependents = 'No'\n",
    "    AND accountfeatures.Churn = 1\n",
    "'''\n",
    "df = pd.read_sql(query, con=engine)\n",
    "print(df)"
   ]
  },
  {
   "cell_type": "markdown",
   "metadata": {},
   "source": [
    "### Account Features"
   ]
  },
  {
   "cell_type": "markdown",
   "metadata": {},
   "source": [
    "Below a review of the avergae customer tenure by churn status"
   ]
  },
  {
   "cell_type": "code",
   "execution_count": 20,
   "metadata": {},
   "outputs": [
    {
     "name": "stdout",
     "output_type": "stream",
     "text": [
      "   Churn  Average Tenure\n",
      "0      0         37.5700\n",
      "1      1         17.9791\n"
     ]
    }
   ],
   "source": [
    "query = '''\n",
    "SELECT\n",
    "accountfeatures.Churn,\n",
    "AVG(Tenure) as 'Average Tenure'\n",
    "FROM accountfeatures\n",
    "GROUP BY Churn\n",
    "'''\n",
    "df = pd.read_sql(query, con=engine)\n",
    "print(df)"
   ]
  },
  {
   "cell_type": "markdown",
   "metadata": {},
   "source": [
    "EDA also suggests churn is most likely for customers whose contract is month-to-month, payment is by electronic check and tenure is less than 30 months. Below the study of this group's churn rate."
   ]
  },
  {
   "cell_type": "code",
   "execution_count": 5,
   "metadata": {},
   "outputs": [
    {
     "name": "stdout",
     "output_type": "stream",
     "text": [
      "   Churn Percentage  Number of Customers\n",
      "0           58.6255                  836\n"
     ]
    }
   ],
   "source": [
    "query = '''\n",
    "SELECT \n",
    "(COUNT(customerID) * 100 /\n",
    "    (SELECT COUNT(customerID)\n",
    "        FROM accountfeatures\n",
    "        WHERE Contract = 'Month-to-month'\n",
    "            AND PaymentMethod = 'Electronic check'\n",
    "            AND Tenure <= 30)) AS 'Churn Percentage',\n",
    "COUNT(customerID) AS 'Number of Customers'\n",
    "FROM accountfeatures\n",
    "WHERE Contract = 'Month-to-month' and\n",
    "    PaymentMethod = 'Electronic check' and\n",
    "    Tenure <= 30 and\n",
    "    Churn = 1\n",
    "'''\n",
    "df = pd.read_sql(query, con=engine)\n",
    "print(df)"
   ]
  },
  {
   "cell_type": "markdown",
   "metadata": {},
   "source": [
    "### Internet Services\n",
    "\n",
    "Similarly, the EDA suggests that fiber optic internet services are the most likely to churn. Below the customer features analysis for this group."
   ]
  },
  {
   "cell_type": "code",
   "execution_count": 7,
   "metadata": {},
   "outputs": [
    {
     "name": "stdout",
     "output_type": "stream",
     "text": [
      "   Churn Percentage  Number of Customers\n",
      "0           49.9614                  648\n"
     ]
    }
   ],
   "source": [
    "query = '''\n",
    "SELECT\n",
    "(COUNT(internetservices.CustomerID) * 100 /\n",
    "    (SELECT COUNT(internetservices.CustomerID)\n",
    "        FROM internetservices\n",
    "        JOIN accountfeatures ON internetservices.CustomerID = accountfeatures.CustomerID\n",
    "        WHERE internetservices.InternetService = 'Fiber optic'\n",
    "            AND accountfeatures.Churn = 1)) AS 'Churn Percentage',\n",
    "COUNT(internetservices.CustomerID) AS 'Number of Customers'\n",
    "FROM internetservices\n",
    "JOIN accountfeatures ON internetservices.CustomerID = accountfeatures.CustomerID\n",
    "WHERE internetservices.InternetService = 'Fiber optic'\n",
    "    AND accountfeatures.Churn = 1\n",
    "    AND accountfeatures.Contract = 'Month-to-month'\n",
    "    AND accountfeatures.PaymentMethod = 'Electronic check'\n",
    "    AND accountfeatures.Tenure <= 30\n",
    "'''\n",
    "df = pd.read_sql(query, con=engine)\n",
    "print(df)"
   ]
  },
  {
   "cell_type": "markdown",
   "metadata": {},
   "source": [
    "### Account Charges\n",
    "\n",
    "EDA revealed that customers who churn have higher monthly costs and lower total costs. On the total costs front, this view aligns with the previous analysis on account features, given churned customers have a considerably lower tenure than customer who do not churn. Hence, total costs are added across a shorter period of time. On the other hand, re monthly costs, below the corresponding analysis."
   ]
  },
  {
   "cell_type": "code",
   "execution_count": 21,
   "metadata": {},
   "outputs": [
    {
     "name": "stdout",
     "output_type": "stream",
     "text": [
      "   Churn  Avg. Monthly Charges\n",
      "0      0               61.2882\n",
      "1      1               74.4580\n"
     ]
    }
   ],
   "source": [
    "query = '''\n",
    "SELECT\n",
    "    accountfeatures.Churn,\n",
    "    AVG(accountcharges.MonthlyCharges) as 'Avg. Monthly Charges'\n",
    "FROM accountcharges\n",
    "JOIN accountfeatures ON accountcharges.CustomerID = accountfeatures.CustomerID\n",
    "GROUP BY accountfeatures.Churn\n",
    "'''\n",
    "df = pd.read_sql(query, con=engine)\n",
    "print(df)"
   ]
  },
  {
   "cell_type": "code",
   "execution_count": 29,
   "metadata": {},
   "outputs": [
    {
     "name": "stdout",
     "output_type": "stream",
     "text": [
      "   Churn  Has Internet Service  Has Movie Streaming  Has TV Streaming  \\\n",
      "0      0                  3761                 1914              1893   \n",
      "1      1                  1756                  818               814   \n",
      "\n",
      "   Has Phone Service  Has Multiple Lines  \n",
      "0               4662                2121  \n",
      "1               1699                 850  \n"
     ]
    }
   ],
   "source": [
    "query = '''\n",
    "SELECT \n",
    "    accountfeatures.Churn,\n",
    "    COUNT(CASE WHEN internetservices.InternetService != 'No' THEN internetservices.CustomerID END) AS 'Has Internet Service',\n",
    "    COUNT(CASE WHEN internetservices.StreamingMovies = 'Yes' THEN internetservices.CustomerID END) AS 'Has Movie Streaming',\n",
    "    COUNT(CASE WHEN internetservices.StreamingTV = 'Yes' THEN internetservices.CustomerID END) AS 'Has TV Streaming',\n",
    "    COUNT(CASE WHEN phoneservices.PhoneService != 'No' THEN phoneservices.CustomerID END) AS 'Has Phone Service',\n",
    "    COUNT(CASE WHEN phoneservices.MultipleLines = 'Yes' THEN phoneservices.CustomerID END) AS 'Has Multiple Lines'\n",
    "FROM accountfeatures\n",
    "LEFT JOIN internetservices ON accountfeatures.CustomerID = internetservices.CustomerID\n",
    "LEFT JOIN phoneservices ON accountfeatures.CustomerID = phoneservices.CustomerID\n",
    "GROUP BY accountfeatures.Churn\n",
    "'''\n",
    "df = pd.read_sql(query, con=engine)\n",
    "print(df)"
   ]
  },
  {
   "cell_type": "markdown",
   "metadata": {},
   "source": [
    "Below an study of the number of customer by contract type and churn status. The analysis showcases that the majority of churn cases are concentrated in the month-to-month contract (likely the most expensive contract). Although customers who do not churn are also a majority month-to-month, the split across this type of contract along with one year and two year is much more balanced."
   ]
  },
  {
   "cell_type": "code",
   "execution_count": 39,
   "metadata": {},
   "outputs": [
    {
     "name": "stdout",
     "output_type": "stream",
     "text": [
      "         Contract  Churn  Number of Customers\n",
      "0  Month-to-month      0                 2220\n",
      "1  Month-to-month      1                 1655\n",
      "2        One year      0                 1307\n",
      "3        One year      1                  166\n",
      "4        Two year      0                 1647\n",
      "5        Two year      1                   48\n"
     ]
    }
   ],
   "source": [
    "query = '''\n",
    "SELECT \n",
    "Contract,\n",
    "Churn,\n",
    "COUNT(customerID) AS 'Number of Customers'\n",
    "FROM accountfeatures\n",
    "GROUP BY Contract, Churn\n",
    "ORDER BY Contract\n",
    "'''\n",
    "df = pd.read_sql(query, con=engine)\n",
    "print(df)"
   ]
  }
 ],
 "metadata": {
  "kernelspec": {
   "display_name": ".venv",
   "language": "python",
   "name": "python3"
  },
  "language_info": {
   "codemirror_mode": {
    "name": "ipython",
    "version": 3
   },
   "file_extension": ".py",
   "mimetype": "text/x-python",
   "name": "python",
   "nbconvert_exporter": "python",
   "pygments_lexer": "ipython3",
   "version": "3.11.9"
  }
 },
 "nbformat": 4,
 "nbformat_minor": 2
}

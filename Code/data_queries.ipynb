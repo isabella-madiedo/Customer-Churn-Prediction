{
 "cells": [
  {
   "cell_type": "markdown",
   "metadata": {},
   "source": [
    "# Customer Churn Prediction 💁‍♀️\n",
    "\n",
    "### Data Queries"
   ]
  },
  {
   "cell_type": "code",
   "execution_count": 1,
   "metadata": {},
   "outputs": [],
   "source": [
    "# Load required libraries\n",
    "import pandas as pd\n",
    "from sqlalchemy import create_engine\n",
    "import config"
   ]
  },
  {
   "cell_type": "markdown",
   "metadata": {},
   "source": [
    "## Database Configuration"
   ]
  },
  {
   "cell_type": "markdown",
   "metadata": {},
   "source": [
    "### MySQL Connection"
   ]
  },
  {
   "cell_type": "code",
   "execution_count": 2,
   "metadata": {},
   "outputs": [],
   "source": [
    "# Create a connection to MySQL database\n",
    "engine = create_engine('mysql+mysqlconnector://' + config.username + ':' + config.password + '@localhost:3306/' + config.database)"
   ]
  },
  {
   "cell_type": "markdown",
   "metadata": {},
   "source": [
    "### Data Loading"
   ]
  },
  {
   "cell_type": "code",
   "execution_count": null,
   "metadata": {},
   "outputs": [
    {
     "data": {
      "text/plain": [
       "7043"
      ]
     },
     "execution_count": 29,
     "metadata": {},
     "output_type": "execute_result"
    }
   ],
   "source": [
    "# Load data into MySQL database\n",
    "csv_files = {\n",
    "    \"customers\": \"../Data/customers.csv\",\n",
    "    \"accountcharges\": \"../Data/AccountCharges.csv\",\n",
    "    \"accountfeatures\": \"../Data/AccountFeatures.csv\",\n",
    "    \"internetservices\": \"../Data/InternetServices.csv\",\n",
    "    \"phoneservices\": \"../Data/PhoneServices.csv\",\n",
    "}\n",
    "\n",
    "for table, file in csv_files.items():\n",
    "    df = pd.read_csv(file)\n",
    "    df.to_sql(table, con=engine, if_exists=\"append\", index=False)"
   ]
  },
  {
   "cell_type": "markdown",
   "metadata": {},
   "source": [
    "## Data Querying"
   ]
  },
  {
   "cell_type": "markdown",
   "metadata": {},
   "source": [
    "### Customers\n",
    "The EDA suggested churn is most likely for customers who are senior citizens, do not have a partner and do not have dependants. Below the study of this demosgraphic's churn rate."
   ]
  },
  {
   "cell_type": "code",
   "execution_count": 32,
   "metadata": {},
   "outputs": [
    {
     "name": "stdout",
     "output_type": "stream",
     "text": [
      "   Churn Percentage  Number of Customers\n",
      "0           49.1979                  276\n"
     ]
    }
   ],
   "source": [
    "query = '''\n",
    "SELECT \n",
    "    (COUNT(customers.CustomerID) * 100 / \n",
    "        (SELECT COUNT(CustomerID) \n",
    "         FROM customers \n",
    "         WHERE SeniorCitizen = 1 \n",
    "           AND Partner = 'No' \n",
    "           AND Dependents = 'No')\n",
    "    ) AS 'Churn Percentage',\n",
    "COUNT(customers.CustomerID) AS 'Number of Customers'\n",
    "FROM customers\n",
    "JOIN accountfeatures ON customers.CustomerID = accountfeatures.CustomerID\n",
    "WHERE customers.SeniorCitizen = 1\n",
    "    AND customers.Partner = 'No'\n",
    "    AND customers.Dependents = 'No'\n",
    "    AND accountfeatures.Churn = 1\n",
    "'''\n",
    "df = pd.read_sql(query, con=engine)\n",
    "print(df)"
   ]
  },
  {
   "cell_type": "markdown",
   "metadata": {},
   "source": [
    "### Account Features"
   ]
  },
  {
   "cell_type": "markdown",
   "metadata": {},
   "source": [
    "Below a review of the avergae customer tenure by churn status"
   ]
  },
  {
   "cell_type": "code",
   "execution_count": 53,
   "metadata": {},
   "outputs": [
    {
     "name": "stdout",
     "output_type": "stream",
     "text": [
      "   Average Tenure\n",
      "0         37.5700\n",
      "1         17.9791\n"
     ]
    }
   ],
   "source": [
    "query = '''\n",
    "SELECT AVG(Tenure) as 'Average Tenure'\n",
    "FROM accountfeatures\n",
    "GROUP BY Churn\n",
    "'''\n",
    "df = pd.read_sql(query, con=engine)\n",
    "print(df)"
   ]
  },
  {
   "cell_type": "markdown",
   "metadata": {},
   "source": [
    "EDA also suggests churn is most likely for customers whose contract is month-to-month, payment is by electronic check and tenure is less than 30 months. Below the study of this group's churn rate."
   ]
  },
  {
   "cell_type": "code",
   "execution_count": 29,
   "metadata": {},
   "outputs": [
    {
     "name": "stdout",
     "output_type": "stream",
     "text": [
      "   Churn Percentage  Number of Customers\n",
      "0           58.6255                  836\n"
     ]
    }
   ],
   "source": [
    "query = '''\n",
    "SELECT \n",
    "(COUNT(customerID) * 100 /\n",
    "    (SELECT COUNT(customerID)\n",
    "        FROM accountfeatures\n",
    "        WHERE Contract = 'Month-to-month'\n",
    "            AND PaymentMethod = 'Electronic check'\n",
    "            AND Tenure <= 30)) AS 'Churn Percentage',\n",
    "COUNT(customerID) AS 'Number of Customers'\n",
    "FROM accountfeatures\n",
    "WHERE Contract = 'Month-to-month' and\n",
    "    PaymentMethod = 'Electronic check' and\n",
    "    Tenure <= 30 and\n",
    "    Churn = 1\n",
    "'''\n",
    "df = pd.read_sql(query, con=engine)\n",
    "print(df)"
   ]
  },
  {
   "cell_type": "markdown",
   "metadata": {},
   "source": [
    "### Internet Services\n",
    "\n",
    "Similarly, the EDA suggests that fiber optic internet services are the most likely to churn. Below the customer features analysis for this group."
   ]
  },
  {
   "cell_type": "code",
   "execution_count": 43,
   "metadata": {},
   "outputs": [
    {
     "name": "stdout",
     "output_type": "stream",
     "text": [
      "   Churn Percentage  Number of Customers\n",
      "0           17.1164                  222\n"
     ]
    }
   ],
   "source": [
    "query = '''\n",
    "SELECT\n",
    "(COUNT(internetservices.CustomerID) * 100 /\n",
    "    (SELECT COUNT(internetservices.CustomerID)\n",
    "        FROM internetservices\n",
    "        JOIN accountfeatures ON internetservices.CustomerID = accountfeatures.CustomerID\n",
    "        WHERE internetservices.InternetService = 'Fiber optic'\n",
    "            AND accountfeatures.Churn = 1)) AS 'Churn Percentage',\n",
    "COUNT(internetservices.CustomerID) AS 'Number of Customers'\n",
    "FROM internetservices\n",
    "JOIN customers ON internetservices.CustomerID = customers.CustomerID\n",
    "JOIN accountfeatures ON internetservices.CustomerID = accountfeatures.CustomerID\n",
    "WHERE internetservices.InternetService = 'Fiber optic'\n",
    "    AND accountfeatures.Churn = 1\n",
    "    AND customers.SeniorCitizen = 1\n",
    "    AND customers.Partner = 'No'\n",
    "    AND customers.Dependents = 'No'\n",
    "'''\n",
    "df = pd.read_sql(query, con=engine)\n",
    "print(df)"
   ]
  },
  {
   "cell_type": "markdown",
   "metadata": {},
   "source": [
    "Below the account features analysis for the Fiber Optic churning group."
   ]
  },
  {
   "cell_type": "code",
   "execution_count": 44,
   "metadata": {},
   "outputs": [
    {
     "name": "stdout",
     "output_type": "stream",
     "text": [
      "   Churn Percentage  Number of Customers\n",
      "0           49.9614                  648\n"
     ]
    }
   ],
   "source": [
    "query = '''\n",
    "SELECT\n",
    "(COUNT(internetservices.CustomerID) * 100 /\n",
    "    (SELECT COUNT(internetservices.CustomerID)\n",
    "        FROM internetservices\n",
    "        JOIN accountfeatures ON internetservices.CustomerID = accountfeatures.CustomerID\n",
    "        WHERE internetservices.InternetService = 'Fiber optic'\n",
    "            AND accountfeatures.Churn = 1)) AS 'Churn Percentage',\n",
    "COUNT(internetservices.CustomerID) AS 'Number of Customers'\n",
    "FROM internetservices\n",
    "JOIN accountfeatures ON internetservices.CustomerID = accountfeatures.CustomerID\n",
    "WHERE internetservices.InternetService = 'Fiber optic'\n",
    "    AND accountfeatures.Churn = 1\n",
    "    AND accountfeatures.Contract = 'Month-to-month'\n",
    "    AND accountfeatures.PaymentMethod = 'Electronic check'\n",
    "    AND accountfeatures.Tenure <= 30\n",
    "'''\n",
    "df = pd.read_sql(query, con=engine)\n",
    "print(df)"
   ]
  },
  {
   "cell_type": "markdown",
   "metadata": {},
   "source": [
    "### Account Charges\n",
    "\n",
    "EDA revealed that customers who churn have higher monthly costs and lower total costs. On the total costs front, this view aligns with the previous analysis on account features, given churned customers have a considerably lower tenure than customer who do not churn. Hence, total costs are added across a shorter period of time. On the other hand, re monthly costs, below the corresponding analysis."
   ]
  },
  {
   "cell_type": "code",
   "execution_count": 58,
   "metadata": {},
   "outputs": [
    {
     "name": "stdout",
     "output_type": "stream",
     "text": [
      "   Avg. Monthly Charges\n",
      "0               61.2882\n",
      "1               74.4580\n"
     ]
    }
   ],
   "source": [
    "query = '''\n",
    "SELECT\n",
    "    AVG(accountcharges.MonthlyCharges) as 'Avg. Monthly Charges'\n",
    "FROM accountcharges\n",
    "JOIN accountfeatures ON accountcharges.CustomerID = accountfeatures.CustomerID\n",
    "GROUP BY accountfeatures.Churn\n",
    "'''\n",
    "df = pd.read_sql(query, con=engine)\n",
    "print(df)"
   ]
  },
  {
   "cell_type": "code",
   "execution_count": 74,
   "metadata": {},
   "outputs": [
    {
     "name": "stdout",
     "output_type": "stream",
     "text": [
      "   COUNT(*)\n",
      "0      1756\n"
     ]
    }
   ],
   "source": [
    "query = '''\n",
    "SELECT\n",
    "    COUNT(*)\n",
    "FROM\n",
    "    internetservices\n",
    "JOIN accountfeatures ON internetservices.CustomerID = accountfeatures.CustomerID\n",
    "WHERE accountfeatures.Churn = 1\n",
    "    AND internetservices.InternetService IN ('Fiber optic', 'DSL')\n",
    "'''\n",
    "df = pd.read_sql(query, con=engine)\n",
    "print(df)"
   ]
  }
 ],
 "metadata": {
  "kernelspec": {
   "display_name": ".venv",
   "language": "python",
   "name": "python3"
  },
  "language_info": {
   "codemirror_mode": {
    "name": "ipython",
    "version": 3
   },
   "file_extension": ".py",
   "mimetype": "text/x-python",
   "name": "python",
   "nbconvert_exporter": "python",
   "pygments_lexer": "ipython3",
   "version": "3.11.9"
  }
 },
 "nbformat": 4,
 "nbformat_minor": 2
}
